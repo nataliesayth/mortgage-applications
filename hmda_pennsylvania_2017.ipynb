{
 "cells": [
  {
   "cell_type": "markdown",
   "id": "82747ae5-e9d0-428e-9523-22607599034c",
   "metadata": {},
   "source": [
    "# Mortgage Data From the Home Mortgage Disclosure Act\n",
    "## 2017\n",
    "I'm really interested in housing data. The Consumer Financial Production Bureau makes a LOT of that kind of thing available for free, but the datasets are enormous. I'm still figuring out the best way for me to pursue my analysis.<br>\n",
    "<br>\n",
    "I know from trial and error that the dataset from 2017 (and presumably prior) are formatted differently than 2018-2023. I was working backwards in time, collecting data by year all in one notebook. But for the sake of neatness, I'm starting a new notebook for 2017.\n",
    "<br>\n",
    "I downloaded loan application records for mortages in 2017, and below I do a bit of refining for the analysis I want to conduct.<br><br>\n",
    "According to [its website](https://ffiec.cfpb.gov/data-publication/three-year-national-loan-level-dataset/2017), the Three Year files incorporate adjustments to the 2017 national HMDA datasets, submitted as of December 31, 2020. They include all updates to the Loan Application Register (LAR) and Transmittal Sheet (TS) made in the 36 months following the 2017 reporting deadline of March 1, 2018. Files are available to download in both .csv and pipe delimited text file formats.\n",
    "<br>\n",
    "Use caution when analyzing loan amount and income, which do not have an upper limit and may contain outliers.\n",
    "<br><br>\n",
    "**Source**<br>\n",
    "“HMDA - Home Mortgage Disclosure Act.” 2025. Cfpb.gov. 2025. https://ffiec.cfpb.gov/data-publication/three-year-national-loan-level-dataset/2017.\n",
    "‌"
   ]
  },
  {
   "cell_type": "code",
   "execution_count": 2,
   "id": "df6a6356-055c-4e28-bede-e6c1c3947c05",
   "metadata": {},
   "outputs": [],
   "source": [
    "import pandas as pd"
   ]
  },
  {
   "cell_type": "code",
   "execution_count": 4,
   "id": "e67c1b5b-103c-4a9a-80c2-9a578ad8cf07",
   "metadata": {},
   "outputs": [
    {
     "data": {
      "text/plain": [
       "(14334811, 47)"
      ]
     },
     "execution_count": 4,
     "metadata": {},
     "output_type": "execute_result"
    }
   ],
   "source": [
    "# Let's read the 2017 data in chunks. Unlike with 2018-2023, we won't filter the state.\n",
    "\n",
    "chunks = []\n",
    "\n",
    "chunk_size = 10_000 \n",
    "\n",
    "for chunk in pd.read_csv('2017_public_lar_three_year.csv', chunksize = chunk_size, low_memory = False):\n",
    "    chunks.append(chunk)\n",
    "\n",
    "lar17 = pd.concat(chunks, ignore_index = True)\n",
    "\n",
    "# Not sure I want to save this .csv till I see what it looks like\n",
    "\n",
    "lar17.shape"
   ]
  },
  {
   "cell_type": "code",
   "execution_count": 6,
   "id": "32a54048-77e4-453f-b905-15d51d6d71b8",
   "metadata": {},
   "outputs": [
    {
     "data": {
      "text/html": [
       "<div>\n",
       "<style scoped>\n",
       "    .dataframe tbody tr th:only-of-type {\n",
       "        vertical-align: middle;\n",
       "    }\n",
       "\n",
       "    .dataframe tbody tr th {\n",
       "        vertical-align: top;\n",
       "    }\n",
       "\n",
       "    .dataframe thead th {\n",
       "        text-align: right;\n",
       "    }\n",
       "</style>\n",
       "<table border=\"1\" class=\"dataframe\">\n",
       "  <thead>\n",
       "    <tr style=\"text-align: right;\">\n",
       "      <th></th>\n",
       "      <th>activity_year</th>\n",
       "      <th>respondent_id</th>\n",
       "      <th>agency_code</th>\n",
       "      <th>loan_type</th>\n",
       "      <th>property_type</th>\n",
       "      <th>loan_purpose</th>\n",
       "      <th>occupancy_type</th>\n",
       "      <th>loan_amount</th>\n",
       "      <th>preapproval</th>\n",
       "      <th>action_taken</th>\n",
       "      <th>...</th>\n",
       "      <th>tract_minority_population_percent</th>\n",
       "      <th>ffiec_msa_md_median_family_income</th>\n",
       "      <th>tract_to_msa_income_percentage</th>\n",
       "      <th>tract_owner_occupied_units</th>\n",
       "      <th>tract_one_to_four_family_units</th>\n",
       "      <th>derived_loan_product_type</th>\n",
       "      <th>derived_dwelling_category</th>\n",
       "      <th>derived_ethnicity</th>\n",
       "      <th>derived_race</th>\n",
       "      <th>derived_sex</th>\n",
       "    </tr>\n",
       "  </thead>\n",
       "  <tbody>\n",
       "    <tr>\n",
       "      <th>0</th>\n",
       "      <td>2017</td>\n",
       "      <td>30698</td>\n",
       "      <td>3</td>\n",
       "      <td>1</td>\n",
       "      <td>2</td>\n",
       "      <td>1</td>\n",
       "      <td>1</td>\n",
       "      <td>116</td>\n",
       "      <td>3</td>\n",
       "      <td>3</td>\n",
       "      <td>...</td>\n",
       "      <td>NaN</td>\n",
       "      <td>NaN</td>\n",
       "      <td>NaN</td>\n",
       "      <td>NaN</td>\n",
       "      <td>NaN</td>\n",
       "      <td>Conventional:First Lien</td>\n",
       "      <td>Manufactured</td>\n",
       "      <td>Not Hispanic or Latino</td>\n",
       "      <td>White</td>\n",
       "      <td>Female</td>\n",
       "    </tr>\n",
       "    <tr>\n",
       "      <th>1</th>\n",
       "      <td>2017</td>\n",
       "      <td>136131491</td>\n",
       "      <td>7</td>\n",
       "      <td>1</td>\n",
       "      <td>1</td>\n",
       "      <td>1</td>\n",
       "      <td>2</td>\n",
       "      <td>276</td>\n",
       "      <td>3</td>\n",
       "      <td>1</td>\n",
       "      <td>...</td>\n",
       "      <td>55.41</td>\n",
       "      <td>67000.0</td>\n",
       "      <td>102.53</td>\n",
       "      <td>1409.0</td>\n",
       "      <td>2236.0</td>\n",
       "      <td>Conventional:First Lien</td>\n",
       "      <td>Single Family (1-4 Units)</td>\n",
       "      <td>Not Hispanic or Latino</td>\n",
       "      <td>White</td>\n",
       "      <td>Female</td>\n",
       "    </tr>\n",
       "    <tr>\n",
       "      <th>2</th>\n",
       "      <td>2017</td>\n",
       "      <td>491224</td>\n",
       "      <td>9</td>\n",
       "      <td>1</td>\n",
       "      <td>1</td>\n",
       "      <td>1</td>\n",
       "      <td>1</td>\n",
       "      <td>79</td>\n",
       "      <td>3</td>\n",
       "      <td>1</td>\n",
       "      <td>...</td>\n",
       "      <td>58.77</td>\n",
       "      <td>64800.0</td>\n",
       "      <td>118.18</td>\n",
       "      <td>1152.0</td>\n",
       "      <td>1846.0</td>\n",
       "      <td>Conventional:First Lien</td>\n",
       "      <td>Single Family (1-4 Units)</td>\n",
       "      <td>Not Hispanic or Latino</td>\n",
       "      <td>White</td>\n",
       "      <td>Male</td>\n",
       "    </tr>\n",
       "    <tr>\n",
       "      <th>3</th>\n",
       "      <td>2017</td>\n",
       "      <td>451965</td>\n",
       "      <td>9</td>\n",
       "      <td>1</td>\n",
       "      <td>1</td>\n",
       "      <td>1</td>\n",
       "      <td>2</td>\n",
       "      <td>120</td>\n",
       "      <td>3</td>\n",
       "      <td>6</td>\n",
       "      <td>...</td>\n",
       "      <td>2.96</td>\n",
       "      <td>68000.0</td>\n",
       "      <td>128.25</td>\n",
       "      <td>1154.0</td>\n",
       "      <td>1261.0</td>\n",
       "      <td>Conventional:Not Applicable</td>\n",
       "      <td>Single Family (1-4 Units)</td>\n",
       "      <td>Not Hispanic or Latino</td>\n",
       "      <td>White</td>\n",
       "      <td>Male</td>\n",
       "    </tr>\n",
       "    <tr>\n",
       "      <th>4</th>\n",
       "      <td>2017</td>\n",
       "      <td>19953</td>\n",
       "      <td>3</td>\n",
       "      <td>1</td>\n",
       "      <td>1</td>\n",
       "      <td>3</td>\n",
       "      <td>1</td>\n",
       "      <td>290</td>\n",
       "      <td>3</td>\n",
       "      <td>1</td>\n",
       "      <td>...</td>\n",
       "      <td>6.68</td>\n",
       "      <td>99800.0</td>\n",
       "      <td>111.64</td>\n",
       "      <td>2097.0</td>\n",
       "      <td>2230.0</td>\n",
       "      <td>Conventional:First Lien</td>\n",
       "      <td>Single Family (1-4 Units)</td>\n",
       "      <td>Not Hispanic or Latino</td>\n",
       "      <td>White</td>\n",
       "      <td>Joint</td>\n",
       "    </tr>\n",
       "  </tbody>\n",
       "</table>\n",
       "<p>5 rows × 47 columns</p>\n",
       "</div>"
      ],
      "text/plain": [
       "   activity_year respondent_id  agency_code  loan_type  property_type  \\\n",
       "0           2017         30698            3          1              2   \n",
       "1           2017     136131491            7          1              1   \n",
       "2           2017        491224            9          1              1   \n",
       "3           2017        451965            9          1              1   \n",
       "4           2017         19953            3          1              1   \n",
       "\n",
       "   loan_purpose  occupancy_type  loan_amount  preapproval  action_taken  ...  \\\n",
       "0             1               1          116            3             3  ...   \n",
       "1             1               2          276            3             1  ...   \n",
       "2             1               1           79            3             1  ...   \n",
       "3             1               2          120            3             6  ...   \n",
       "4             3               1          290            3             1  ...   \n",
       "\n",
       "   tract_minority_population_percent  ffiec_msa_md_median_family_income  \\\n",
       "0                                NaN                                NaN   \n",
       "1                              55.41                            67000.0   \n",
       "2                              58.77                            64800.0   \n",
       "3                               2.96                            68000.0   \n",
       "4                               6.68                            99800.0   \n",
       "\n",
       "   tract_to_msa_income_percentage  tract_owner_occupied_units  \\\n",
       "0                             NaN                         NaN   \n",
       "1                          102.53                      1409.0   \n",
       "2                          118.18                      1152.0   \n",
       "3                          128.25                      1154.0   \n",
       "4                          111.64                      2097.0   \n",
       "\n",
       "   tract_one_to_four_family_units    derived_loan_product_type  \\\n",
       "0                             NaN      Conventional:First Lien   \n",
       "1                          2236.0      Conventional:First Lien   \n",
       "2                          1846.0      Conventional:First Lien   \n",
       "3                          1261.0  Conventional:Not Applicable   \n",
       "4                          2230.0      Conventional:First Lien   \n",
       "\n",
       "   derived_dwelling_category       derived_ethnicity  derived_race  \\\n",
       "0               Manufactured  Not Hispanic or Latino         White   \n",
       "1  Single Family (1-4 Units)  Not Hispanic or Latino         White   \n",
       "2  Single Family (1-4 Units)  Not Hispanic or Latino         White   \n",
       "3  Single Family (1-4 Units)  Not Hispanic or Latino         White   \n",
       "4  Single Family (1-4 Units)  Not Hispanic or Latino         White   \n",
       "\n",
       "   derived_sex  \n",
       "0       Female  \n",
       "1       Female  \n",
       "2         Male  \n",
       "3         Male  \n",
       "4        Joint  \n",
       "\n",
       "[5 rows x 47 columns]"
      ]
     },
     "execution_count": 6,
     "metadata": {},
     "output_type": "execute_result"
    }
   ],
   "source": [
    "# 14 million, huh. No wonder I crashed my last kernel.\n",
    "\n",
    "lar17.head()"
   ]
  },
  {
   "cell_type": "code",
   "execution_count": 8,
   "id": "506369d7-2021-4051-8aaf-b9c95528c6f8",
   "metadata": {},
   "outputs": [
    {
     "data": {
      "text/plain": [
       "Index(['activity_year', 'respondent_id', 'agency_code', 'loan_type',\n",
       "       'property_type', 'loan_purpose', 'occupancy_type', 'loan_amount',\n",
       "       'preapproval', 'action_taken', 'msa_md', 'state_code', 'county_code',\n",
       "       'census_tract', 'applicant_ethnicity', 'co_applicant_ethnicity',\n",
       "       'applicant_race_1', 'applicant_race_2', 'applicant_race_3',\n",
       "       'applicant_race_4', 'applicant_race_5', 'co_applicant_race_1',\n",
       "       'co_applicant_race_2', 'co_applicant_race_3', 'co_applicant_race_4',\n",
       "       'co_applicant_race_5', 'applicant_sex', 'co_applicant_sex', 'income',\n",
       "       'purchaser_type', 'denial_reason_1', 'denial_reason_2',\n",
       "       'denial_reason_3', 'rate_spread', 'hoepa_status', 'lien_status',\n",
       "       'tract_population', 'tract_minority_population_percent',\n",
       "       'ffiec_msa_md_median_family_income', 'tract_to_msa_income_percentage',\n",
       "       'tract_owner_occupied_units', 'tract_one_to_four_family_units',\n",
       "       'derived_loan_product_type', 'derived_dwelling_category',\n",
       "       'derived_ethnicity', 'derived_race', 'derived_sex'],\n",
       "      dtype='object')"
      ]
     },
     "execution_count": 8,
     "metadata": {},
     "output_type": "execute_result"
    }
   ],
   "source": [
    "lar17.columns"
   ]
  },
  {
   "cell_type": "code",
   "execution_count": 10,
   "id": "fde9f614-4ea1-43a1-90e7-741bd9a37723",
   "metadata": {},
   "outputs": [
    {
     "data": {
      "text/plain": [
       "0            NaN\n",
       "1           15.0\n",
       "2           45.0\n",
       "3           36.0\n",
       "4           34.0\n",
       "            ... \n",
       "14334806     6.0\n",
       "14334807    24.0\n",
       "14334808    24.0\n",
       "14334809    17.0\n",
       "14334810     6.0\n",
       "Name: state_code, Length: 14334811, dtype: float64"
      ]
     },
     "execution_count": 10,
     "metadata": {},
     "output_type": "execute_result"
    }
   ],
   "source": [
    "lar17.state_code"
   ]
  },
  {
   "cell_type": "code",
   "execution_count": 12,
   "id": "d5aa02af-4925-4cb3-934d-7619867113e1",
   "metadata": {},
   "outputs": [
    {
     "data": {
      "text/plain": [
       "(475053, 47)"
      ]
     },
     "execution_count": 12,
     "metadata": {},
     "output_type": "execute_result"
    }
   ],
   "source": [
    "# Ah, they used the state FIPS code, not the state postal code. Well that's an easy enough fix to filter.\n",
    "\n",
    "# I'll cast the column as strings (currently floats)\n",
    "# I don't need to preserve nulls\n",
    "# 42 is Pennsylvania's state code, so I'll grab only the rows whose state_code starts with 42\n",
    "\n",
    "lar17 = lar17[lar17['state_code'].astype(pd.Int64Dtype()).astype(str) == '42']\n",
    "lar17.shape"
   ]
  },
  {
   "cell_type": "code",
   "execution_count": null,
   "id": "479dbb5f-97b7-427e-aaa9-010db4f2327d",
   "metadata": {},
   "outputs": [],
   "source": [
    "lar17.to_csv('lar17.csv', index = False)"
   ]
  }
 ],
 "metadata": {
  "kernelspec": {
   "display_name": "Python 3 (ipykernel)",
   "language": "python",
   "name": "python3"
  },
  "language_info": {
   "codemirror_mode": {
    "name": "ipython",
    "version": 3
   },
   "file_extension": ".py",
   "mimetype": "text/x-python",
   "name": "python",
   "nbconvert_exporter": "python",
   "pygments_lexer": "ipython3",
   "version": "3.12.4"
  }
 },
 "nbformat": 4,
 "nbformat_minor": 5
}
